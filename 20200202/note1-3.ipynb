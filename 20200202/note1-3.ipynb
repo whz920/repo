{
 "cells": [
  {
   "cell_type": "markdown",
   "metadata": {},
   "source": [
    "# 1. python中可以使用import导入哪些对象？"
   ]
  },
  {
   "cell_type": "code",
   "execution_count": null,
   "metadata": {},
   "outputs": [],
   "source": [
    "1、包和模块，调用包或模块的对象，用x.object\n",
    "2、变量  ，直接使用 x\n",
    "3、函数名字，使用方法 x.() 或x.(参数)"
   ]
  },
  {
   "cell_type": "markdown",
   "metadata": {},
   "source": [
    "# 2. 机器学习和函数/模块的思想有哪些异同？"
   ]
  },
  {
   "cell_type": "code",
   "execution_count": null,
   "metadata": {},
   "outputs": [],
   "source": [
    "相同点：都有输入x,输出y,及方法f\n",
    "\n",
    "不同点：\n",
    "函数/模块,是人为写好定义的f,然后输入x,得到输出的y\n",
    "\n",
    "机器学习，是给定输入x 和 输出结果y  ,通过x,y 拟合f,通过部分x,y 数据集训练f,用剩余 x,y 查看f的效果"
   ]
  },
  {
   "cell_type": "markdown",
   "metadata": {},
   "source": [
    "# 3. 安装 numpy, matplotlib,sklearn包, 并测试是否安装完成"
   ]
  },
  {
   "cell_type": "code",
   "execution_count": 4,
   "metadata": {},
   "outputs": [],
   "source": [
    "import numpy as np\n",
    "import matplotlib \n",
    "import sklearn"
   ]
  },
  {
   "cell_type": "code",
   "execution_count": 9,
   "metadata": {},
   "outputs": [
    {
     "name": "stdout",
     "output_type": "stream",
     "text": [
      "['__SKLEARN_SETUP__', '__all__', '__builtins__', '__cached__', '__check_build', '__doc__', '__file__', '__loader__', '__name__', '__package__', '__path__', '__spec__', '__version__', '_config', 'base', 'clone', 'config_context', 'exceptions', 'externals', 'get_config', 'logger', 'logging', 'os', 're', 'set_config', 'setup_module', 'show_versions', 'sys', 'utils', 'warnings']\n"
     ]
    }
   ],
   "source": [
    "#print(dir(np))\n",
    "#print(dir(matplotlib))\n",
    "print(dir(sklearn))"
   ]
  },
  {
   "cell_type": "code",
   "execution_count": null,
   "metadata": {},
   "outputs": [],
   "source": [
    "\n",
    "\n"
   ]
  },
  {
   "cell_type": "code",
   "execution_count": 7,
   "metadata": {},
   "outputs": [],
   "source": [
    "#小结\n",
    "import numpy as np"
   ]
  },
  {
   "cell_type": "code",
   "execution_count": 21,
   "metadata": {},
   "outputs": [],
   "source": [
    "arry1 = np.array( [  1,2         ] )\n",
    "arry2 = np.array( [  [1,2]       ])\n",
    "arry3 = np.array( [  [1]   ,[2]  ])"
   ]
  },
  {
   "cell_type": "code",
   "execution_count": 22,
   "metadata": {},
   "outputs": [
    {
     "name": "stdout",
     "output_type": "stream",
     "text": [
      "Array形式的a1形状为： (2,)\n",
      "Array形式的a2形状为： (1, 2)\n",
      "Array形式的a3形状为： (2, 1)\n"
     ]
    }
   ],
   "source": [
    "\n",
    "print(\"Array形式的a1形状为：\", arry1.shape)\n",
    "print(\"Array形式的a2形状为：\", arry2.shape)\n",
    "print(\"Array形式的a3形状为：\", arry3.shape)"
   ]
  },
  {
   "cell_type": "code",
   "execution_count": null,
   "metadata": {},
   "outputs": [],
   "source": []
  }
 ],
 "metadata": {
  "kernelspec": {
   "display_name": "Python 3",
   "language": "python",
   "name": "python3"
  },
  "language_info": {
   "codemirror_mode": {
    "name": "ipython",
    "version": 3
   },
   "file_extension": ".py",
   "mimetype": "text/x-python",
   "name": "python",
   "nbconvert_exporter": "python",
   "pygments_lexer": "ipython3",
   "version": "3.7.4"
  }
 },
 "nbformat": 4,
 "nbformat_minor": 2
}
