{
 "cells": [
  {
   "cell_type": "code",
   "execution_count": 6,
   "metadata": {},
   "outputs": [],
   "source": [
    "import random\n",
    "def shuffle(x,y):\n",
    "    index = [ i for i in range(len(x))]\n",
    "    random.shuffle(index)\n",
    "    a1 = []\n",
    "    b1 = []\n",
    "    print(index)\n",
    "    for item   in index:\n",
    "        a = x[item]\n",
    "        b = y[item]\n",
    "        a1.append(a)\n",
    "        b1.append(b)\n",
    "    return a1,b1"
   ]
  },
  {
   "cell_type": "code",
   "execution_count": 7,
   "metadata": {},
   "outputs": [
    {
     "name": "stdout",
     "output_type": "stream",
     "text": [
      "[6, 2, 3, 5, 7, 4, 1, 0]\n",
      "味道很不错！ : 好评\n",
      "特别难吃 : 差评\n",
      "要齁死我了 : 差评\n",
      "下次还来 : 好评\n",
      "香 : 好评\n",
      "很划算 : 好评\n",
      "不好吃 : 差评\n",
      "快递太慢了！ : 差评\n"
     ]
    }
   ],
   "source": [
    "x = ['快递太慢了！','不好吃','特别难吃','要齁死我了','很划算','下次还来','味道很不错！','香']\n",
    "y = ['差评','差评','差评','差评','好评','好评','好评','好评']\n",
    "\n",
    "x,y = shuffle(x,y)\n",
    "for i,j in zip(x,y):\n",
    "    print(i,':',j)"
   ]
  },
  {
   "cell_type": "markdown",
   "metadata": {},
   "source": [
    "# 老师，为什么下面这个报下标越界  答：列表此时是空的，里面根本没有值，所以不可以根据下标进行索引。"
   ]
  },
  {
   "cell_type": "code",
   "execution_count": 1,
   "metadata": {},
   "outputs": [],
   "source": [
    "import random\n",
    "def shuffle(x,y):\n",
    "    index = [ i for i in range(len(x))]\n",
    "    random.shuffle(index)\n",
    "    a = [0] * 8  #技巧，防止下标越界\n",
    "    b = [0] * 8  #技巧，防止下标越界\n",
    "    print(index)\n",
    "    for index,item   in enumerate(index):\n",
    "        a[index] = x[item]\n",
    "        b[index] = y[item]\n",
    "    return a,b"
   ]
  },
  {
   "cell_type": "code",
   "execution_count": 2,
   "metadata": {},
   "outputs": [
    {
     "name": "stdout",
     "output_type": "stream",
     "text": [
      "[5, 7, 4, 0, 1, 6, 2, 3]\n",
      "下次还来 : 好评\n",
      "香 : 好评\n",
      "很划算 : 好评\n",
      "快递太慢了！ : 差评\n",
      "不好吃 : 差评\n",
      "味道很不错！ : 好评\n",
      "特别难吃 : 差评\n",
      "要齁死我了 : 差评\n"
     ]
    }
   ],
   "source": [
    "x = ['快递太慢了！','不好吃','特别难吃','要齁死我了','很划算','下次还来','味道很不错！','香']\n",
    "y = ['差评','差评','差评','差评','好评','好评','好评','好评']\n",
    "\n",
    "x,y = shuffle(x,y)\n",
    "for i,j in zip(x,y):\n",
    "    print(i,':',j)"
   ]
  },
  {
   "cell_type": "code",
   "execution_count": 19,
   "metadata": {},
   "outputs": [
    {
     "name": "stdout",
     "output_type": "stream",
     "text": [
      "[('快递太慢了！', '差评'), ('不好吃', '差评'), ('特别难吃', '差评'), ('要齁死我了', '差评'), ('很划算', '好评'), ('下次还来', '好评'), ('味道很不错！', '好评'), ('香', '好评')] \n",
      "\n",
      "\n",
      "[('要齁死我了', '差评'), ('味道很不错！', '好评'), ('不好吃', '差评'), ('下次还来', '好评'), ('香', '好评'), ('快递太慢了！', '差评'), ('很划算', '好评'), ('特别难吃', '差评')] \n",
      "\n",
      "\n",
      "('要齁死我了', '味道很不错！', '不好吃', '下次还来', '香', '快递太慢了！', '很划算', '特别难吃') \n",
      " ('差评', '好评', '差评', '好评', '好评', '差评', '好评', '差评')\n",
      "\n",
      "\n",
      "\n",
      "\n",
      "要齁死我了 : 差评\n",
      "味道很不错！ : 好评\n",
      "不好吃 : 差评\n",
      "下次还来 : 好评\n",
      "香 : 好评\n",
      "快递太慢了！ : 差评\n",
      "很划算 : 好评\n",
      "特别难吃 : 差评\n"
     ]
    }
   ],
   "source": [
    "import random\n",
    "x = ['快递太慢了！','不好吃','特别难吃','要齁死我了','很划算','下次还来','味道很不错！','香']\n",
    "y = ['差评','差评','差评','差评','好评','好评','好评','好评']\n",
    "\n",
    "def shuffle(x,y):\n",
    "    xy = list(zip(x,y))\n",
    "    print(xy,'\\n\\n')\n",
    "    random.seed(1) # 指定随机的种子\n",
    "    random.shuffle(xy)\n",
    "    print(xy,'\\n\\n')\n",
    "    x,y =zip(*xy)\n",
    "    print(x,'\\n',y)\n",
    "    return x,y\n",
    "\n",
    "x,y = shuffle(x,y)\n",
    "print('\\n\\n\\n')\n",
    "for i,j in zip(x,y):\n",
    "    print(i,':',j)"
   ]
  },
  {
   "cell_type": "code",
   "execution_count": null,
   "metadata": {},
   "outputs": [],
   "source": []
  }
 ],
 "metadata": {
  "kernelspec": {
   "display_name": "Python 3",
   "language": "python",
   "name": "python3"
  },
  "language_info": {
   "codemirror_mode": {
    "name": "ipython",
    "version": 3
   },
   "file_extension": ".py",
   "mimetype": "text/x-python",
   "name": "python",
   "nbconvert_exporter": "python",
   "pygments_lexer": "ipython3",
   "version": "3.7.4"
  }
 },
 "nbformat": 4,
 "nbformat_minor": 2
}
