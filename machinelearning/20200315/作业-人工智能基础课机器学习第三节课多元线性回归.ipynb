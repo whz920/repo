{
 "cells": [
  {
   "cell_type": "markdown",
   "metadata": {},
   "source": [
    "![](https://img.kaikeba.com/web/kkb_index/img_index_logo.png)"
   ]
  },
  {
   "cell_type": "markdown",
   "metadata": {},
   "source": [
    "# 人工智能基础课机器学习 第三节课作业 线性回归\n",
    "\n",
    "同学们大家好，本次作业是考察学生对线性回归的理解与SKLearn的使用，以及pandas的使用。\n",
    "\n",
    "本次作业的数据集：data.csv\n",
    "这份数据代表了一个循环发电厂，每个数据有5列，分别是:AT（温度）, V（压力）, AP（湿度）, RH（压强）, PE（输出电力)\n",
    "\n",
    "问题是得到一个线性的关系，对应PE是样本输出，而AT/V/AP/RH这4个是样本特征， 机器学习的目的就是得到一个线性回归模型，即: PE=W0+W1∗AT+W2∗V+W3∗AP+W4∗RH 而需要学习的，就是W0,W1,W2,W3,W4这5个参数。\n"
   ]
  },
  {
   "cell_type": "code",
   "execution_count": 1,
   "metadata": {},
   "outputs": [],
   "source": [
    "from sklearn.linear_model import LinearRegression\n",
    "from sklearn.model_selection import train_test_split\n",
    "import numpy as np\n",
    "import pandas as pd\n",
    "import matplotlib.pyplot as plt"
   ]
  },
  {
   "cell_type": "markdown",
   "metadata": {},
   "source": [
    "# 第一步：读取样本数据，并将数据集分为训练集和测试集\n",
    "\n",
    "\n"
   ]
  },
  {
   "cell_type": "code",
   "execution_count": 14,
   "metadata": {},
   "outputs": [
    {
     "name": "stdout",
     "output_type": "stream",
     "text": [
      "2871 2871\n"
     ]
    }
   ],
   "source": [
    "df = pd.read_csv(r'data.csv')\n",
    "x = df[['AT','V','AP','RH']]\n",
    "y = df[['PE']]\n",
    "#x.head()\n",
    "x_train,x_test,y_train,y_test = train_test_split(x,y,test_size=0.3,random_state=12345)\n",
    "#x_train\n"
   ]
  },
  {
   "cell_type": "markdown",
   "metadata": {},
   "source": [
    "#  第二步：训练Linear Regreesion模型，得到训练参数\n",
    "\n"
   ]
  },
  {
   "cell_type": "code",
   "execution_count": 20,
   "metadata": {},
   "outputs": [
    {
     "name": "stdout",
     "output_type": "stream",
     "text": [
      "[-1.9690502  -0.23601743  0.07068575 -0.15675015]\n",
      "[445.75181229]\n"
     ]
    }
   ],
   "source": [
    "lr = LinearRegression()\n",
    "lr.fit(x_train,y_train)\n",
    "print(lr.coef_[0])\n",
    "print(lr.intercept_)"
   ]
  },
  {
   "cell_type": "markdown",
   "metadata": {},
   "source": [
    "# 第三步：使用均方误差和均方根误差在测试集上的表现来评价模型的好坏。\n",
    "\n"
   ]
  },
  {
   "cell_type": "code",
   "execution_count": 16,
   "metadata": {},
   "outputs": [
    {
     "name": "stdout",
     "output_type": "stream",
     "text": [
      "2871\n",
      "MSEPE    20.579659\n",
      "dtype: float64\n",
      "RMSEPE    4.536481\n",
      "dtype: float64\n"
     ]
    }
   ],
   "source": [
    "y_pred = lr.predict(x_test)\n",
    "n = np.shape(x_test)[0]\n",
    "print(n)\n",
    "MSE =(1.0/n) * np.square(y_test-y_pred).sum()\n",
    "RMSE = MSE ** 0.5\n",
    "print(\"MSE\" + str(MSE))\n",
    "print(\"RMSE\" + str(RMSE))"
   ]
  },
  {
   "cell_type": "code",
   "execution_count": 23,
   "metadata": {},
   "outputs": [
    {
     "name": "stdout",
     "output_type": "stream",
     "text": [
      "MSE: 20.579658576470337\n",
      "RMSE: 4.536480858162011\n"
     ]
    }
   ],
   "source": [
    "from sklearn.metrics import mean_squared_error\n",
    "y_pred = lr.predict(x_test)\n",
    "MSE = mean_squared_error(y_test,y_pred)\n",
    "RMSE = MSE ** 0.5\n",
    "print(\"MSE: \" + str(MSE))\n",
    "print(\"RMSE: \" + str(RMSE))"
   ]
  },
  {
   "cell_type": "markdown",
   "metadata": {},
   "source": [
    "# 第四步：可视化的方式直观的表示模型学习效果的好坏\n",
    "\n"
   ]
  },
  {
   "cell_type": "code",
   "execution_count": 31,
   "metadata": {},
   "outputs": [
    {
     "data": {
      "image/png": "[encoded data removed]",
      "text/plain": [
       "<Figure size 432x288 with 1 Axes>"
      ]
     },
     "metadata": {
      "needs_background": "light"
     },
     "output_type": "display_data"
    }
   ],
   "source": [
    "#print(len(x_test),len(y_test),len(y_pred))\n",
    "plt.scatter(y_pred,y_test)\n",
    "#plt.plot(y_test,y_pred)\n",
    "plt.show()"
   ]
  },
  {
   "cell_type": "code",
   "execution_count": null,
   "metadata": {},
   "outputs": [],
   "source": []
  }
 ],
 "metadata": {
  "kernelspec": {
   "display_name": "Python 3",
   "language": "python",
   "name": "python3"
  },
  "language_info": {
   "codemirror_mode": {
    "name": "ipython",
    "version": 3
   },
   "file_extension": ".py",
   "mimetype": "text/x-python",
   "name": "python",
   "nbconvert_exporter": "python",
   "pygments_lexer": "ipython3",
   "version": "3.7.4"
  }
 },
 "nbformat": 4,
 "nbformat_minor": 4
}
