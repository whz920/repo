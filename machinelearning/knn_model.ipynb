{
 "cells": [
  {
   "cell_type": "markdown",
   "metadata": {},
   "source": [
    "# KNN 代码(k=1)\n"
   ]
  },
  {
   "cell_type": "code",
   "execution_count": 9,
   "metadata": {},
   "outputs": [
    {
     "name": "stdout",
     "output_type": "stream",
     "text": [
      "1\n",
      "2\n",
      "2\n"
     ]
    }
   ],
   "source": [
    "import numpy as np\n",
    "import math\n",
    "def KNN(X,dataset,y,K=1):\n",
    "    distances =[]\n",
    "    size = dataset.shape[0] # 返回dataset的行数\n",
    "    for i in range(size):\n",
    "        p = X - dataset[i]\n",
    "        distance = math.hypot(p[0],p[1])\n",
    "        distances.append(distance)\n",
    "        sort_distance = np.array(distances).argsort()\n",
    "    return y[sort_distance[0]]\n",
    "data = np.array([[1,1],[0.4,5.2],[-2.8,-1.1],[3.2,1.4],[-1.3,3.2],[-3,3.1]])\n",
    "y = ['2','1','2','1','1','2']\n",
    "x1 = [-2.6,6.6]\n",
    "print(KNN(x1,data,y))\n",
    "x2 = [1.4,1.6]\n",
    "print(KNN(x2,data,y))\n",
    "x3 = [-2.5,1.2]\n",
    "print(KNN(x3,data,y))"
   ]
  },
  {
   "cell_type": "markdown",
   "metadata": {},
   "source": [
    "# KNN 代码(k>1)\n"
   ]
  },
  {
   "cell_type": "code",
   "execution_count": 10,
   "metadata": {},
   "outputs": [
    {
     "name": "stdout",
     "output_type": "stream",
     "text": [
      "1\n",
      "2\n",
      "2\n"
     ]
    }
   ],
   "source": [
    "import operator\n",
    "import numpy as np\n",
    "import math\n",
    "def KNN(X,dataset,y,K=1):\n",
    "    distances =[]\n",
    "    size = dataset.shape[0] # 返回dataset的行数\n",
    "    for i in range(size):\n",
    "        p = X - dataset[i]\n",
    "        distance = math.hypot(p[0],p[1])\n",
    "        distances.append(distance)\n",
    "        sort_distance = np.array(distances).argsort()\n",
    "    class_count = {}\n",
    "    for i in range(K):\n",
    "        votelabel = y[sort_distance[i]]\n",
    "        class_count[votelabel] = class_count.get(votelabel,0) + 1\n",
    "        sort_class_count = sorted(class_count.items(),key=operator.itemgetter(1),reverse=True)\n",
    "        return sort_class_count[0][0]\n",
    "data = np.array([[1,1],[0.4,5.2],[-2.8,-1.1],[3.2,1.4],[-1.3,3.2],[-3,3.1]])\n",
    "y = ['2','1','2','1','1','2']\n",
    "x1 = [-2.6,6.6]\n",
    "print(KNN(x1,data,y))\n",
    "x2 = [1.4,1.6]\n",
    "print(KNN(x2,data,y))\n",
    "x3 = [-2.5,1.2]\n",
    "print(KNN(x3,data,y))"
   ]
  },
  {
   "cell_type": "markdown",
   "metadata": {},
   "source": [
    "# 这是百度出来的"
   ]
  },
  {
   "cell_type": "code",
   "execution_count": 20,
   "metadata": {},
   "outputs": [
    {
     "name": "stdout",
     "output_type": "stream",
     "text": [
      "1\n",
      "2\n",
      "2\n"
     ]
    }
   ],
   "source": [
    "import operator\n",
    "import numpy as np\n",
    "def class_KNN(X,dataset,y,K):\n",
    "    datasize = dataset.shape[0] # 返回dataset的行数\n",
    "    diff = np.tile(X,(datasize,1))-dataset  #在列向量方向上重复inX共1次(横向)，行向量方向上重复inX共dataSetSize次(纵向)\n",
    "    distances = ((diff**2).sum(axis=1))**0.5 # #二维特征相减后平方 sum()所有元素相加，sum(0)列相加，sum(1)行相加  开方\n",
    "    sort_distance = distances.argsort()  #返回distances中元素从小到大排序后的索引值\n",
    "    class_count = {}   #定一个记录类别次数的字典\n",
    "    for i in range(K):\n",
    "        #取出前k个元素的类别\n",
    "        votelabel = y[sort_distance[i]] \n",
    "        #dict.get(key,default=None),字典的get()方法,返回指定键的值,如果值不在字典中返回默认值。\n",
    "        #计算类别次数\n",
    "        class_count[votelabel] = class_count.get(votelabel,0) + 1\n",
    "        #key=operator.itemgetter(1)根据字典的值进行排序\n",
    "        #key=operator.itemgetter(0)根据字典的键进行排序\n",
    "        #reverse降序排序字典\n",
    "        sort_class_count = sorted(class_count.items(),key=operator.itemgetter(1),reverse=True)\n",
    "        #返回次数最多的类别,即所要分类的类别\n",
    "        return sort_class_count[0][0]\n",
    "data = np.array([[1,1],[0.4,5.2],[-2.8,-1.1],[3.2,1.4],[-1.3,3.2],[-3,3.1]])\n",
    "y = ['2','1','2','1','1','2']\n",
    "x1 = [-2.6,6.6]\n",
    "print(class_KNN(x1,data,y,1))\n",
    "x2 = [1.4,1.6]\n",
    "print(class_KNN(x2,data,y,1))\n",
    "x3 = [-2.5,1.2]\n",
    "print(class_KNN(x3,data,y,1))"
   ]
  },
  {
   "cell_type": "code",
   "execution_count": null,
   "metadata": {},
   "outputs": [],
   "source": []
  },
  {
   "cell_type": "markdown",
   "metadata": {},
   "source": [
    "# 请简略说明有监督学习和无监督学习有什么区别；\n",
    "\n"
   ]
  },
  {
   "cell_type": "code",
   "execution_count": null,
   "metadata": {},
   "outputs": [],
   "source": [
    "监督学习\n",
    "定义：根据已有的数据集，知道输入和输出结果之间的关系。根据这种已知的关系，训练得到一个最优的模型。\n",
    "也就是说，在监督学习中训练数据既有特征(feature)又有标签(label)，\n",
    "通过训练，让机器可以自己找到特征和标签之间的联系，在面对只有特征没有标签的数据时，可以判断出标签。\n",
    "\n",
    "无监督学习\n",
    "定义：我们不知道数据集中数据、特征之间的关系，而是要根据聚类或一定的模型得到数据之间的关系。\n",
    "也就是说：无监督学习不会给出标签"
   ]
  },
  {
   "cell_type": "markdown",
   "metadata": {},
   "source": [
    "# 请搜索资料，列出至少6种传统机器学习模型（神经网络不是传统模型哦）；\n"
   ]
  },
  {
   "cell_type": "code",
   "execution_count": null,
   "metadata": {},
   "outputs": [],
   "source": [
    "传统机器学习平衡了学习结果的有效性与学习模型的可解释性，为解决有限样本的学习问题提供了一种框架，\n",
    "主要用于有限样本情况下的模式分类、回归分析、概率密度估计等\n",
    "1、决策树DT（人工客服VIP，面试录用）\n",
    "2、朴素贝叶斯NB（邮箱筛选）\n",
    "3、逻辑回归（客户购买欲望）\n",
    "   线性回归LR和随机森林区别：随机森林等树算法都是非线性的，而LR是线性的\n",
    "4、K 近邻（knn）\n",
    "5、支持向量机svm (svm 是knn的升维)\n",
    "6、数据聚类（K-means）/ 数据降维（PCA）"
   ]
  },
  {
   "cell_type": "markdown",
   "metadata": {},
   "source": [
    "# 请简略说明，为什么PR曲线能在正负样本极其不均衡的情况下很好地反映出模型真正地分类效果。"
   ]
  },
  {
   "cell_type": "code",
   "execution_count": null,
   "metadata": {},
   "outputs": [],
   "source": [
    "200个样本只有2个正样本：\n",
    "精确率：X/正样本个数 即X/Max（2） 其值会很高\n",
    "召回率：X/预测正样本  即X/200 ,其值会很低\n",
    "图形表现为：召回率靠近X轴，精确率无限靠近Y轴，可能是大写的‘L’图形\n",
    "\n",
    "以下代码为百度出来：PR实现例子"
   ]
  },
  {
   "cell_type": "code",
   "execution_count": 14,
   "metadata": {},
   "outputs": [
    {
     "name": "stdout",
     "output_type": "stream",
     "text": [
      "************************************************************************\n",
      "[0.15       0.10526316 0.11111111 0.11764706 0.125      0.13333333\n",
      " 0.07142857 0.07692308 0.08333333 0.09090909 0.1        0.\n",
      " 0.         0.         0.         0.         0.         0.\n",
      " 1.        ]\n",
      "************************************************************************\n",
      "[1.         0.66666667 0.66666667 0.66666667 0.66666667 0.66666667\n",
      " 0.33333333 0.33333333 0.33333333 0.33333333 0.33333333 0.\n",
      " 0.         0.         0.         0.         0.         0.\n",
      " 0.        ]\n",
      "************************************************************************\n",
      "[0.1  0.18 0.2  0.22 0.27 0.3  0.4  0.5  0.57 0.6  0.63 0.7  0.74 0.76\n",
      " 0.8  0.9  0.94 0.95]\n",
      "************************************************************************\n"
     ]
    },
    {
     "data": {
      "image/png": "[encoded data removed]",
      "text/plain": [
       "<Figure size 432x288 with 1 Axes>"
      ]
     },
     "metadata": {
      "needs_background": "light"
     },
     "output_type": "display_data"
    }
   ],
   "source": [
    "#  ! pip install funcsigs  安装包程序\n",
    "#coding:utf-8\n",
    "import matplotlib\n",
    "import numpy as np\n",
    "import matplotlib.pyplot as plt\n",
    "from sklearn.metrics import precision_recall_curve\n",
    "from funcsigs import signature\n",
    "plt.figure(\"P-R Curve\")\n",
    "plt.title('Precision/Recall Curve')\n",
    "plt.xlabel('Recall')\n",
    "plt.ylabel('Precision')\n",
    "#       y_true为样本实际的类别，       y_scores为样本为正例的概率\n",
    "\n",
    "y_true = np.array([1, 0, 1, 0, 0, 0, 0, 0, 0, 0, 0, 0, 0, 0, 1, 0, 0, 0, 0, 0])\n",
    "\n",
    "#y_true = np.array([1, 0, 1, 0, 1, 1, 1, 0, 1, 1, 1, 1, 1, 0, 1, 1, 1, 1, 1, 1])\n",
    "\n",
    "y_scores = np.array([0.1, 0.2, 0.3, 0.4, 0.5, 0.6, 0.7, 0.8, 0.9, 0.76, 0.18, 0.27, 0.74, 0.57, 0.63, 0.94, 0.22, 0.8, 0.95, 0.7])\n",
    "\n",
    "# precision, recall, thresholds  分别为精确率，召回率，阈值\n",
    "precision, recall, thresholds = precision_recall_curve(y_true, y_scores)\n",
    "print('****'*18)\n",
    "print(precision)\n",
    "print('****'*18)\n",
    "print(recall)\n",
    "print('****'*18)\n",
    "print(thresholds)\n",
    "print('****'*18)\n",
    "plt.plot(recall,precision)\n",
    "plt.show()\n"
   ]
  },
  {
   "cell_type": "code",
   "execution_count": null,
   "metadata": {},
   "outputs": [],
   "source": []
  }
 ],
 "metadata": {
  "kernelspec": {
   "display_name": "Python 3",
   "language": "python",
   "name": "python3"
  },
  "language_info": {
   "codemirror_mode": {
    "name": "ipython",
    "version": 3
   },
   "file_extension": ".py",
   "mimetype": "text/x-python",
   "name": "python",
   "nbconvert_exporter": "python",
   "pygments_lexer": "ipython3",
   "version": "3.7.4"
  }
 },
 "nbformat": 4,
 "nbformat_minor": 2
}
