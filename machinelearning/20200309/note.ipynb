{
 "cells": [
  {
   "cell_type": "markdown",
   "metadata": {},
   "source": [
    "![](https://img.kaikeba.com/web/kkb_index/img_index_logo.png)"
   ]
  },
  {
   "cell_type": "markdown",
   "metadata": {},
   "source": [
    "# 人工智能基础课机器学习 第二节课作业 股票数据清洗\n",
    "\n",
    "同学们好，本次作业的主要内容为使用pandas进行数据预处理。希望这两天你们已经从Python的课程内容中回过神来了。\n",
    "没有数据的分析是无源之水，能够熟练处理数据是成为合格的数据分析师的基本要求，希望大家在今后多多实战，成为数据大师。\n",
    "\n",
    "本次作业将使用公开标普500的股票数据。\n",
    "https://www.kaggle.com/dgawlik/nyse#prices-split-adjusted.csv\n",
    "\n",
    "作业的形式以问答为主，因为不涉及过长的代码，核心是数据的操作，所以这里没有太多的代码模板可供大家参考。\n",
    "希望大家能从搜索引擎（google/bing）问答社区（stackoverflow）或者[官方文档](https://pandas.pydata.org/pandas-docs/stable/user_guide/index.html)或者我提供的jupyter notebooks 中找到回答问题需要的方法。\n",
    "请时刻牢记数据的增删改查四种原子操作，思考我们的问题可以被如何分解。\n",
    "\n",
    "那么首先，我们要import pandas"
   ]
  },
  {
   "cell_type": "code",
   "execution_count": 2,
   "metadata": {},
   "outputs": [],
   "source": [
    "import pandas as pd"
   ]
  },
  {
   "cell_type": "markdown",
   "metadata": {},
   "source": [
    "# 1. 从fundemantals.csv开始！\n",
    "\n",
    "fundemantals.csv 是这些股票的年报数据\n",
    "\n",
    "请用数据回答以下问题：\n",
    "\n",
    "1. S&P500股票在2015年`net income`的均值是多少？最大值比最小值多多少？（每问10分，共计20分）\n",
    "2. S&P500股票在2016年的固定资产（fixed assets）占总资产(total assets)比例的均值是多少？固定资产占总资产比例最小的股票是的代码（ticker symbol）是什么？（每问10分，共计20分）\n"
   ]
  },
  {
   "cell_type": "code",
   "execution_count": 131,
   "metadata": {},
   "outputs": [],
   "source": [
    "df_base = pd.read_csv(r'./nyse/fundamentals.csv')\n",
    "df_base['Period Ending'] = pd.to_datetime(df_base['Period Ending'])\n",
    "\n",
    "df_base['year'] =pd.to_datetime(df_base['Period Ending']).dt.year.astype(str)\n"
   ]
  },
  {
   "cell_type": "code",
   "execution_count": 121,
   "metadata": {},
   "outputs": [
    {
     "data": {
      "text/plain": [
       "1560252997.752809"
      ]
     },
     "execution_count": 121,
     "metadata": {},
     "output_type": "execute_result"
    }
   ],
   "source": [
    "df1 = df_base[(df_base['Period Ending'] > '2015-01-01') & (df_base['Period Ending'] <= '2015-12-31')]\n",
    "df1['Net Income'].mean()\n"
   ]
  },
  {
   "cell_type": "code",
   "execution_count": 122,
   "metadata": {},
   "outputs": [
    {
     "data": {
      "text/plain": [
       "Net Income    76922000000\n",
       "dtype: int64"
      ]
     },
     "execution_count": 122,
     "metadata": {},
     "output_type": "execute_result"
    }
   ],
   "source": [
    "df1[['Net Income']].apply(lambda x: x.max()-x.min())"
   ]
  },
  {
   "cell_type": "code",
   "execution_count": 123,
   "metadata": {},
   "outputs": [
    {
     "data": {
      "text/plain": [
       "0.2442857532840247"
      ]
     },
     "execution_count": 123,
     "metadata": {},
     "output_type": "execute_result"
    }
   ],
   "source": [
    "f = lambda x: x[1]/x[2]\n",
    "df2 = df_base[(df_base['Period Ending'] > '2016-01-01') & (df_base['Period Ending'] <= '2016-12-31')][['Ticker Symbol','Fixed Assets','Total Assets']]\n",
    "df2['RATE'] = df2.apply(f,axis =1)\n",
    "df2['RATE'].mean()\n"
   ]
  },
  {
   "cell_type": "code",
   "execution_count": 124,
   "metadata": {},
   "outputs": [
    {
     "data": {
      "text/plain": [
       "'AAP'"
      ]
     },
     "execution_count": 124,
     "metadata": {},
     "output_type": "execute_result"
    }
   ],
   "source": [
    "df2[['Ticker Symbol','RATE']].min()['Ticker Symbol']"
   ]
  },
  {
   "cell_type": "markdown",
   "metadata": {},
   "source": [
    "# 2. 加入securities.csv~\n",
    "\n",
    "securities.csv包含了这些股票的基本信息\n",
    "\n",
    "1. 请列举出各个sector中的加入时间最早的股票名称（10分）\n",
    "2. 请列举出每一个州中加入时间最晚的股票名称（10分）\n"
   ]
  },
  {
   "cell_type": "code",
   "execution_count": 125,
   "metadata": {},
   "outputs": [
    {
     "data": {
      "text/html": [
       "<div>\n",
       "<style scoped>\n",
       "    .dataframe tbody tr th:only-of-type {\n",
       "        vertical-align: middle;\n",
       "    }\n",
       "\n",
       "    .dataframe tbody tr th {\n",
       "        vertical-align: top;\n",
       "    }\n",
       "\n",
       "    .dataframe thead th {\n",
       "        text-align: right;\n",
       "    }\n",
       "</style>\n",
       "<table border=\"1\" class=\"dataframe\">\n",
       "  <thead>\n",
       "    <tr style=\"text-align: right;\">\n",
       "      <th></th>\n",
       "      <th>Ticker symbol</th>\n",
       "      <th>Date first added</th>\n",
       "    </tr>\n",
       "    <tr>\n",
       "      <th>Address of Headquarters</th>\n",
       "      <th></th>\n",
       "      <th></th>\n",
       "    </tr>\n",
       "  </thead>\n",
       "  <tbody>\n",
       "    <tr>\n",
       "      <td>Akron, Ohio</td>\n",
       "      <td>GT</td>\n",
       "      <td>1900/01/01</td>\n",
       "    </tr>\n",
       "    <tr>\n",
       "      <td>Allentown, Pennsylvania</td>\n",
       "      <td>PPL</td>\n",
       "      <td>1985/4/30</td>\n",
       "    </tr>\n",
       "    <tr>\n",
       "      <td>Amsterdam, Netherlands</td>\n",
       "      <td>MYL</td>\n",
       "      <td>1900/01/01</td>\n",
       "    </tr>\n",
       "    <tr>\n",
       "      <td>Amsterdam, New York</td>\n",
       "      <td>MHK</td>\n",
       "      <td>2013/12/23</td>\n",
       "    </tr>\n",
       "    <tr>\n",
       "      <td>Arlington, Virginia</td>\n",
       "      <td>AES</td>\n",
       "      <td>1900/01/01</td>\n",
       "    </tr>\n",
       "    <tr>\n",
       "      <td>...</td>\n",
       "      <td>...</td>\n",
       "      <td>...</td>\n",
       "    </tr>\n",
       "    <tr>\n",
       "      <td>Woburn, Massachusetts</td>\n",
       "      <td>SWKS</td>\n",
       "      <td>2015/3/12</td>\n",
       "    </tr>\n",
       "    <tr>\n",
       "      <td>Woonsocket, Rhode Island</td>\n",
       "      <td>CVS</td>\n",
       "      <td>1900/01/01</td>\n",
       "    </tr>\n",
       "    <tr>\n",
       "      <td>Worsley, UK</td>\n",
       "      <td>PNR</td>\n",
       "      <td>2012/10/1</td>\n",
       "    </tr>\n",
       "    <tr>\n",
       "      <td>York, Pennsylvania</td>\n",
       "      <td>XRAY</td>\n",
       "      <td>2008/11/14</td>\n",
       "    </tr>\n",
       "    <tr>\n",
       "      <td>Zurich, Switzerland</td>\n",
       "      <td>CB</td>\n",
       "      <td>2010/7/15</td>\n",
       "    </tr>\n",
       "  </tbody>\n",
       "</table>\n",
       "<p>264 rows × 2 columns</p>\n",
       "</div>"
      ],
      "text/plain": [
       "                         Ticker symbol Date first added\n",
       "Address of Headquarters                                \n",
       "Akron, Ohio                         GT       1900/01/01\n",
       "Allentown, Pennsylvania            PPL        1985/4/30\n",
       "Amsterdam, Netherlands             MYL       1900/01/01\n",
       "Amsterdam, New York                MHK       2013/12/23\n",
       "Arlington, Virginia                AES       1900/01/01\n",
       "...                                ...              ...\n",
       "Woburn, Massachusetts             SWKS        2015/3/12\n",
       "Woonsocket, Rhode Island           CVS       1900/01/01\n",
       "Worsley, UK                        PNR        2012/10/1\n",
       "York, Pennsylvania                XRAY       2008/11/14\n",
       "Zurich, Switzerland                 CB        2010/7/15\n",
       "\n",
       "[264 rows x 2 columns]"
      ]
     },
     "execution_count": 125,
     "metadata": {},
     "output_type": "execute_result"
    }
   ],
   "source": [
    "df_secu = pd.read_csv(r'./nyse/securities.csv')\n",
    "df1 = df_secu.fillna('9999/12/31')\n",
    "df1.groupby('Address of Headquarters')['Ticker symbol','Date first added'].min()\n",
    "\n",
    "df2 = df_secu.fillna('1900/01/01')\n",
    "df2.groupby('Address of Headquarters')['Ticker symbol','Date first added'].max()"
   ]
  },
  {
   "cell_type": "markdown",
   "metadata": {},
   "source": [
    "# 3. merge!\n",
    "\n",
    "现在你需要同时处理来自两个表中的信息了\n",
    "\n",
    "1. 请思考，合并两个表的信息的时候，我们应该用什么样的准则对其它们（10分）\n",
    "2. 请列举每个sector在2013-2016年累计Research&Development的总投入（10分）\n",
    "3. 请列举出每个sector中，在2013-2016年累计Research&development投入最大的3家公司的名称以及投入的数值（20分）"
   ]
  },
  {
   "cell_type": "markdown",
   "metadata": {},
   "source": [
    "1、fundemantals 和 securities 合并，通过Ticker symbol\t关联合并"
   ]
  },
  {
   "cell_type": "code",
   "execution_count": 157,
   "metadata": {},
   "outputs": [
    {
     "data": {
      "text/html": [
       "<div>\n",
       "<style scoped>\n",
       "    .dataframe tbody tr th:only-of-type {\n",
       "        vertical-align: middle;\n",
       "    }\n",
       "\n",
       "    .dataframe tbody tr th {\n",
       "        vertical-align: top;\n",
       "    }\n",
       "\n",
       "    .dataframe thead th {\n",
       "        text-align: right;\n",
       "    }\n",
       "</style>\n",
       "<table border=\"1\" class=\"dataframe\">\n",
       "  <thead>\n",
       "    <tr style=\"text-align: right;\">\n",
       "      <th></th>\n",
       "      <th>Research and Development</th>\n",
       "    </tr>\n",
       "    <tr>\n",
       "      <th>Address of Headquarters</th>\n",
       "      <th></th>\n",
       "    </tr>\n",
       "  </thead>\n",
       "  <tbody>\n",
       "    <tr>\n",
       "      <td>Akron, Ohio</td>\n",
       "      <td>0.000000e+00</td>\n",
       "    </tr>\n",
       "    <tr>\n",
       "      <td>Allentown, Pennsylvania</td>\n",
       "      <td>5.426000e+08</td>\n",
       "    </tr>\n",
       "    <tr>\n",
       "      <td>Amsterdam, Netherlands</td>\n",
       "      <td>1.253700e+09</td>\n",
       "    </tr>\n",
       "    <tr>\n",
       "      <td>Amsterdam, New York</td>\n",
       "      <td>0.000000e+00</td>\n",
       "    </tr>\n",
       "    <tr>\n",
       "      <td>Arlington, Virginia[3]</td>\n",
       "      <td>0.000000e+00</td>\n",
       "    </tr>\n",
       "    <tr>\n",
       "      <td>...</td>\n",
       "      <td>...</td>\n",
       "    </tr>\n",
       "    <tr>\n",
       "      <td>Woburn, Massachusetts</td>\n",
       "      <td>1.094100e+09</td>\n",
       "    </tr>\n",
       "    <tr>\n",
       "      <td>Woonsocket, Rhode Island</td>\n",
       "      <td>0.000000e+00</td>\n",
       "    </tr>\n",
       "    <tr>\n",
       "      <td>Worsley, UK</td>\n",
       "      <td>3.597000e+08</td>\n",
       "    </tr>\n",
       "    <tr>\n",
       "      <td>York, Pennsylvania</td>\n",
       "      <td>0.000000e+00</td>\n",
       "    </tr>\n",
       "    <tr>\n",
       "      <td>Zurich, Switzerland</td>\n",
       "      <td>0.000000e+00</td>\n",
       "    </tr>\n",
       "  </tbody>\n",
       "</table>\n",
       "<p>245 rows × 1 columns</p>\n",
       "</div>"
      ],
      "text/plain": [
       "                          Research and Development\n",
       "Address of Headquarters                           \n",
       "Akron, Ohio                           0.000000e+00\n",
       "Allentown, Pennsylvania               5.426000e+08\n",
       "Amsterdam, Netherlands                1.253700e+09\n",
       "Amsterdam, New York                   0.000000e+00\n",
       "Arlington, Virginia[3]                0.000000e+00\n",
       "...                                            ...\n",
       "Woburn, Massachusetts                 1.094100e+09\n",
       "Woonsocket, Rhode Island              0.000000e+00\n",
       "Worsley, UK                           3.597000e+08\n",
       "York, Pennsylvania                    0.000000e+00\n",
       "Zurich, Switzerland                   0.000000e+00\n",
       "\n",
       "[245 rows x 1 columns]"
      ]
     },
     "execution_count": 157,
     "metadata": {},
     "output_type": "execute_result"
    }
   ],
   "source": [
    "df = pd.merge(df_base,df_secu,left_on='Ticker Symbol', right_on='Ticker symbol', how='right')\n",
    "df = df[(df['year']>='2013') & (df['year']<='2016') ]\n",
    "df3 = df.groupby(['Address of Headquarters'])[['Research and Development']].sum()\n",
    "df3"
   ]
  },
  {
   "cell_type": "code",
   "execution_count": 187,
   "metadata": {},
   "outputs": [
    {
     "data": {
      "text/plain": [
       "Address of Headquarters   Ticker Symbol\n",
       "Akron, Ohio               FE               0.000000e+00\n",
       "                          GT               0.000000e+00\n",
       "Allentown, Pennsylvania   APD              5.426000e+08\n",
       "                          PPL              0.000000e+00\n",
       "Amsterdam, Netherlands    MYL              1.253700e+09\n",
       "                                               ...     \n",
       "Woburn, Massachusetts     SWKS             1.094100e+09\n",
       "Woonsocket, Rhode Island  CVS              0.000000e+00\n",
       "Worsley, UK               PNR              3.597000e+08\n",
       "York, Pennsylvania        XRAY             0.000000e+00\n",
       "Zurich, Switzerland       CB               0.000000e+00\n",
       "Name: Research and Development, Length: 354, dtype: float64"
      ]
     },
     "execution_count": 187,
     "metadata": {},
     "output_type": "execute_result"
    }
   ],
   "source": [
    "df5 = df.groupby(['Address of Headquarters','Ticker Symbol'])['Research and Development'].sum()\n",
    "df5.groupby('Address of Headquarters').head(3)"
   ]
  },
  {
   "cell_type": "markdown",
   "metadata": {},
   "source": [
    "# 4. 现在让我们来看看更加复杂的数据\n",
    "\n",
    "请导入price.csv，然后结合你的聪明才智回答以下问题（附加题，40分）\n",
    "\n",
    "假设你是某基金公司的老板，现在对于每只股票，你都专门安排了一位负责它的交易员。公司规定每一位交易员手中的资金要么全部买入要么全部卖出（空仓，转化为现金）。假设2016年每一位交易员手中都有10000美元，假设他们都能够看到2016年全年的数据，假设他们都能抓住每一次机会，那么请问2016年底时，赚钱最多的股票是哪一只，赚了多少钱？"
   ]
  },
  {
   "cell_type": "code",
   "execution_count": null,
   "metadata": {},
   "outputs": [],
   "source": [
    "money = 10000\n",
    "for date,symbol,low,high in df['Ticker Symbol']:\n",
    "    num = money/low\n",
    "    money =money +(high - low)* num\n",
    "print(symbol 年收益为 money)\n",
    "\n",
    "#   美国股票是当天可以卖出，如果当天不卖出，就没有思路了"
   ]
  }
 ],
 "metadata": {
  "kernelspec": {
   "display_name": "Python 3",
   "language": "python",
   "name": "python3"
  },
  "language_info": {
   "codemirror_mode": {
    "name": "ipython",
    "version": 3
   },
   "file_extension": ".py",
   "mimetype": "text/x-python",
   "name": "python",
   "nbconvert_exporter": "python",
   "pygments_lexer": "ipython3",
   "version": "3.7.4"
  }
 },
 "nbformat": 4,
 "nbformat_minor": 4
}
