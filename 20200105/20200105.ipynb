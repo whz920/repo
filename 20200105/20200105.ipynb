{
 "cells": [
  {
   "cell_type": "code",
   "execution_count": 1,
   "metadata": {},
   "outputs": [
    {
     "data": {
      "text/plain": [
       "array([0.77132064, 0.02075195, 0.63364823, 0.74880388, 0.49850701])"
      ]
     },
     "execution_count": 1,
     "metadata": {},
     "output_type": "execute_result"
    }
   ],
   "source": [
    "import numpy as np\n",
    "np.random.seed(10)\n",
    "np.random.random(5)"
   ]
  },
  {
   "cell_type": "code",
   "execution_count": null,
   "metadata": {},
   "outputs": [],
   "source": [
    "print('\\n'.join([''.join([('kaikeba'[(x-y)%7]\\\n",
    "                           if((x*0.05)**2+(y*0.1)**2-1)**3-(x*0.05)**2*(y*0.1)**3<=0 \\\n",
    "                           else' ')\\\n",
    "                          for x in range(-30,30)])\\\n",
    "                 for y in range(15,-15,-1)]))"
   ]
  },
  {
   "cell_type": "code",
   "execution_count": null,
   "metadata": {},
   "outputs": [],
   "source": [
    "import pandas as pd\n",
    "import matplotlib.pyplot as plt\n",
    "from datetime import datetime\n",
    "import matplotlib\n",
    "# \n",
    "train=pd.read_csv('C:\\\\study\\\\train.csv')\n",
    "\n",
    "train['date']=train.datetime.apply(lambda x:x.split()[0])\n",
    "train['hour']=train.datetime.apply(lambda x:x.split()[1].split(':')[0]).astype('int')\n",
    "train['year']=train.datetime.apply(lambda x:x.split()[0].split('-')[0]).astype('int')\n",
    "train['month']=train.datetime.apply(lambda x:x.split()[0].split('-')[1]).astype('int')\n",
    "train['weekday']=train.date.apply( lambda x : datetime.strptime(x,'%Y-%m-%d').isoweekday())\n",
    "\n",
    "#区分工作日和非工作日\n",
    "workingday_df=train[train['workingday']==1]\n",
    "group_working=workingday_df.groupby('hour')\n",
    "hour1_mean=group_working[['count','registered','casual']].mean()\n",
    "noworkingday_df=train[train['workingday']==0]\n",
    "group_noworking=noworkingday_df.groupby('hour')\n",
    "hour2_mean=group_noworking[['count','registered','casual']].mean()\n",
    "\n",
    "plt.figure(figsize=(15,8))\n",
    "plt.subplot(1,2,1)\n",
    "plt.plot(hour1_mean['count'],label='count')\n",
    "plt.plot(hour1_mean['registered'],label='registered')\n",
    "plt.plot(hour1_mean['casual'],label='casual')\n",
    "plt.title('The number of rented cars at different times of the day on weekdays')\n",
    "plt.legend(loc=2)\n",
    "plt.subplot(1,2,2)\n",
    "plt.plot(hour2_mean['count'],label='count')\n",
    "plt.plot(hour2_mean['registered'],label='registered')\n",
    "plt.plot(hour2_mean['casual'],label='casual')\n",
    "plt.title('The number of rented cars at different times of the weekend')\n",
    "plt.legend(loc=2)\n"
   ]
  }
 ],
 "metadata": {
  "kernelspec": {
   "display_name": "Python 3",
   "language": "python",
   "name": "python3"
  },
  "language_info": {
   "codemirror_mode": {
    "name": "ipython",
    "version": 3
   },
   "file_extension": ".py",
   "mimetype": "text/x-python",
   "name": "python",
   "nbconvert_exporter": "python",
   "pygments_lexer": "ipython3",
   "version": "3.7.4"
  }
 },
 "nbformat": 4,
 "nbformat_minor": 2
}
