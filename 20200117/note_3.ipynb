{
 "cells": [
  {
   "cell_type": "code",
   "execution_count": 6,
   "metadata": {},
   "outputs": [
    {
     "name": "stdout",
     "output_type": "stream",
     "text": [
      "0,1,1,2,3,5,"
     ]
    }
   ],
   "source": [
    "def fin(n):\n",
    "    a=0\n",
    "    b=1\n",
    "    while a<=n:\n",
    "        print(a,end =',')\n",
    "        a,b=b,a + b\n",
    "        \n",
    "fin(5)"
   ]
  },
  {
   "cell_type": "code",
   "execution_count": 1,
   "metadata": {},
   "outputs": [],
   "source": [
    "def fibonacci(n):\n",
    "    result = [1,1]\n",
    "    if n < 3:\n",
    "        return result[:n]\n",
    "    for i in range (2,n):\n",
    "        result.append(result[i-1]+ result[i-2])\n",
    "    return result\n"
   ]
  },
  {
   "cell_type": "code",
   "execution_count": 5,
   "metadata": {},
   "outputs": [
    {
     "name": "stdout",
     "output_type": "stream",
     "text": [
      "1 1 2 3 5 8 13 21 34 55 89 144 233 377 610 987 1597 2584 4181 6765 "
     ]
    }
   ],
   "source": [
    "def fib_loop(n):\n",
    "    a,b = 0,1\n",
    "    for i in range(n + 1):\n",
    "        a,b=b,a + b\n",
    "    return a\n",
    "\n",
    "if __name__ =='__main__':\n",
    "    for i in range(20):\n",
    "        print(fib_loop(i),end= ' ')"
   ]
  },
  {
   "cell_type": "code",
   "execution_count": null,
   "metadata": {},
   "outputs": [],
   "source": [
    "# if __name__ =='__main__':\n",
    "1、用于内部测试  \n",
    "运行内部本程序的时候：执行函数+调用测试结果\n",
    "\n",
    "2、如果是外部调用：只会调用函数，不会调用测试数据，输出测试结果"
   ]
  }
 ],
 "metadata": {
  "kernelspec": {
   "display_name": "Python 3",
   "language": "python",
   "name": "python3"
  },
  "language_info": {
   "codemirror_mode": {
    "name": "ipython",
    "version": 3
   },
   "file_extension": ".py",
   "mimetype": "text/x-python",
   "name": "python",
   "nbconvert_exporter": "python",
   "pygments_lexer": "ipython3",
   "version": "3.7.4"
  }
 },
 "nbformat": 4,
 "nbformat_minor": 2
}
