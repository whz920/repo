{
 "cells": [
  {
   "cell_type": "code",
   "execution_count": 47,
   "metadata": {},
   "outputs": [],
   "source": [
    "def print_string(*arg1 ,**arg2 ):\n",
    "    \n",
    "    list_str = []\n",
    "    sep = ' '\n",
    "    end = '\\\\n'\n",
    "   \n",
    "    for arg in arg1:\n",
    "        list_str.append(arg)\n",
    "    \n",
    "    for key,value in arg2.items():\n",
    "        if key =='sep':\n",
    "            sep = value + ''   #字符串不可变处理\n",
    "        if key =='end':\n",
    "            end = value + ''   #字符串不可变处理\n",
    "        \n",
    "    str=sep.join(list_str) + end\n",
    "    print(str)\n",
    "    "
   ]
  },
  {
   "cell_type": "code",
   "execution_count": 48,
   "metadata": {},
   "outputs": [
    {
     "name": "stdout",
     "output_type": "stream",
     "text": [
      "This    is     a    test\\n\n",
      "this is a test\\n\n",
      "This-is-a-test\\n\n",
      "This_is_a_test_,_Yes.\n"
     ]
    }
   ],
   "source": [
    "print_string('This    is     a    test')\n",
    "print_string(\"this\",\"is\",\"a\",\"test\")\n",
    "print_string('This', 'is', 'a', 'test', sep = '-')\n",
    "print_string('This', 'is', 'a', 'test', ',', 'Yes', sep = '_', end = '.')"
   ]
  },
  {
   "cell_type": "code",
   "execution_count": null,
   "metadata": {},
   "outputs": [],
   "source": []
  }
 ],
 "metadata": {
  "kernelspec": {
   "display_name": "Python 3",
   "language": "python",
   "name": "python3"
  },
  "language_info": {
   "codemirror_mode": {
    "name": "ipython",
    "version": 3
   },
   "file_extension": ".py",
   "mimetype": "text/x-python",
   "name": "python",
   "nbconvert_exporter": "python",
   "pygments_lexer": "ipython3",
   "version": "3.7.4"
  }
 },
 "nbformat": 4,
 "nbformat_minor": 2
}
