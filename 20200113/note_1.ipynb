{
 "cells": [
  {
   "cell_type": "code",
   "execution_count": 12,
   "metadata": {},
   "outputs": [
    {
     "name": "stdout",
     "output_type": "stream",
     "text": [
      "星期一的收入为：11\n",
      "星期一的支出为1\n",
      "星期二的收入为：11\n",
      "星期二的支出为1\n",
      "星期三的收入为：11\n",
      "星期三的支出为1\n",
      "星期四的收入为：11\n",
      "星期四的支出为1\n",
      "星期五的收入为：11\n",
      "星期五的支出为1\n",
      "星期六的收入为：11\n",
      "星期六的支出为1\n",
      "星期七的收入为：11\n",
      "星期七的支出为1\n",
      "一周的收入为： ['11', '11', '11', '11', '11', '11', '11']\n",
      "一周的收入为： ['1', '1', '1', '1', '1', '1', '1']\n",
      "每天的结余为： {'星期一': 10, '星期二': 10, '星期三': 10, '星期四': 10, '星期五': 10, '星期六': 10, '星期七': 10}\n",
      "最终的结余: 70\n"
     ]
    }
   ],
   "source": [
    "week_name = ['星期一','星期二','星期三','星期四','星期五','星期六','星期七']\n",
    "list_in = []\n",
    "list_out = []\n",
    "day_all = []\n",
    "balance = {}\n",
    "money_all = 0\n",
    "for i in week_name:\n",
    "    money_in = input(i + \"的收入为：\")\n",
    "    money_out=input(i + \"的支出为\")\n",
    "    list_in.append(money_in)\n",
    "    list_out.append(money_out)\n",
    "    money_day_all =int(money_in) - int(money_out)\n",
    "    money_all = money_all + money_day_all\n",
    "    day_all.append(money_day_all)\n",
    "balance = dict(zip(week_name,day_all))\n",
    "print(\"一周的收入为：\" , list_in)\n",
    "print(\"一周的收入为：\" ,list_out)\n",
    "print(\"每天的结余为：\",balance)\n",
    "print(\"最终的结余:\", money_all)"
   ]
  }
 ],
 "metadata": {
  "kernelspec": {
   "display_name": "Python 3",
   "language": "python",
   "name": "python3"
  },
  "language_info": {
   "codemirror_mode": {
    "name": "ipython",
    "version": 3
   },
   "file_extension": ".py",
   "mimetype": "text/x-python",
   "name": "python",
   "nbconvert_exporter": "python",
   "pygments_lexer": "ipython3",
   "version": "3.7.4"
  }
 },
 "nbformat": 4,
 "nbformat_minor": 2
}
