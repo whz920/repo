{
 "cells": [
  {
   "cell_type": "code",
   "execution_count": 2,
   "metadata": {
    "scrolled": true
   },
   "outputs": [
    {
     "name": "stdout",
     "output_type": "stream",
     "text": [
      "{0: '退出', 1: '查询余额', 2: '存款', 3: '取款'}\n",
      "请选择你的操作：2\n",
      "请输入存款金额：1000\n",
      "{'姓名': '张三', '余额': 1000}\n",
      "请选择你的操作：3\n",
      "请输入取款金额：500\n",
      "{'姓名': '张三', '余额': 500}\n",
      "请选择你的操作：3\n",
      "请输入取款金额：600\n",
      "余额不足\n",
      "请选择你的操作：1\n",
      "{'姓名': '张三', '余额': 500}\n",
      "请选择你的操作：7\n",
      "请取走银行卡\n"
     ]
    }
   ],
   "source": [
    "dict_cmd = {0:'退出',\n",
    "            1:'查询余额',\n",
    "            2:'存款',\n",
    "            3:'取款'\n",
    "           }\n",
    "print(dict_cmd)\n",
    "dict_info = {'姓名':'张三','余额':0.00}\n",
    "while dict_cmd:\n",
    "    \n",
    "    click = int(input(\"请选择你的操作：\"))\n",
    "    \n",
    "    if click ==0 or click >3:\n",
    "        break\n",
    "    if click ==1:\n",
    "        print(dict_info)\n",
    "    if click ==2:\n",
    "        money= int(input(\"请输入存款金额：\"))\n",
    "        save = int(dict_info['余额'])\n",
    "        dict_info['余额'] = save + money\n",
    "        print(dict_info)\n",
    "    if click ==3:\n",
    "        money= int(input(\"请输入取款金额：\"))\n",
    "        save = int(dict_info['余额'])\n",
    "        if save >= money:\n",
    "            dict_info['余额'] = save - money\n",
    "            print(dict_info)\n",
    "        else :\n",
    "            print(\"余额不足\")\n",
    "    \n",
    "print(\"请取走银行卡\") \n",
    "\n",
    "   "
   ]
  },
  {
   "cell_type": "code",
   "execution_count": null,
   "metadata": {},
   "outputs": [],
   "source": []
  },
  {
   "cell_type": "code",
   "execution_count": null,
   "metadata": {},
   "outputs": [],
   "source": []
  },
  {
   "cell_type": "code",
   "execution_count": null,
   "metadata": {},
   "outputs": [],
   "source": []
  }
 ],
 "metadata": {
  "kernelspec": {
   "display_name": "Python 3",
   "language": "python",
   "name": "python3"
  },
  "language_info": {
   "codemirror_mode": {
    "name": "ipython",
    "version": 3
   },
   "file_extension": ".py",
   "mimetype": "text/x-python",
   "name": "python",
   "nbconvert_exporter": "python",
   "pygments_lexer": "ipython3",
   "version": "3.7.4"
  }
 },
 "nbformat": 4,
 "nbformat_minor": 2
}
